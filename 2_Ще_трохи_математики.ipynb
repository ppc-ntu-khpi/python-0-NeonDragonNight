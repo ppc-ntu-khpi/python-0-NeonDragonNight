{
  "nbformat": 4,
  "nbformat_minor": 0,
  "metadata": {
    "colab": {
      "name": "2. Ще трохи математики",
      "provenance": [],
      "toc_visible": true
    },
    "kernelspec": {
      "name": "python3",
      "display_name": "Python 3"
    },
    "language_info": {
      "name": "python"
    }
  },
  "cells": [
    {
      "cell_type": "markdown",
      "metadata": {
        "id": "nspjmpTrxgZS"
      },
      "source": [
        "# Ще трохи математики"
      ]
    },
    {
      "cell_type": "markdown",
      "metadata": {
        "id": "9NqHzlZ2xtID"
      },
      "source": [
        "1. Обчисліть радіус кола, знаючи його площу. Нагадаємо формулу:\n",
        "$$\n",
        "  S=\\pi*R^2 => R =\\sqrt{\\frac{S}{\\pi}}\n",
        "$$\n",
        "Для обчислення скористаємось знайомими функціями ```sqrt``` та ```pi``` з пакету ```math```.\n"
      ]
    },
    {
      "cell_type": "code",
      "metadata": {
        "colab": {
          "base_uri": "https://localhost:8080/"
        },
        "id": "csfYPusD0mWX",
        "outputId": "2fd0d9e4-9440-49e1-ea07-47c68f7b5a09"
      },
      "source": [
        "from math import sqrt,pi\n",
        "S = float(input('Введіть площу кола: '))\n",
        "r = sqrt(S/pi)\n",
        "print ('Радіус дорівнює %6.3f см' %r)"
      ],
      "execution_count": null,
      "outputs": [
        {
          "output_type": "stream",
          "name": "stdout",
          "text": [
            "Введіть площу кола: 25\n",
            "Радіус дорівнює  2.821 см\n"
          ]
        }
      ]
    },
    {
      "cell_type": "markdown",
      "metadata": {
        "id": "e7Ed3mEp11Rw"
      },
      "source": [
        "2. А тепер за зразком знайдіть в наступній комірці площу сфери та об'єм кулі. Нагадуємо формули:\n",
        "$$\n",
        "  S=4*\\pi*R^2    \n",
        "$$\n",
        "$$\n",
        "  V=\\frac{4}{3}*\\pi*R^3\n",
        "$$\n",
        "Також нагадаємо, що ступінь в Python задається так: ```**```"
      ]
    },
    {
      "cell_type": "code",
      "metadata": {
        "id": "sTFMO4Xp3fgO",
        "colab": {
          "base_uri": "https://localhost:8080/"
        },
        "outputId": "2867d695-c22d-4b2b-f98a-53cfbd06a13a"
      },
      "source": [
        "from math import pi\n",
        "R = float(input('Введіть радіус: '))\n",
        "resS = 4*pi*(R**2)\n",
        "resV = (4/3)*pi*(R**3)\n",
        "print ('Площа сфери %6.3f cm' %resS)\n",
        "print ('Обєм кулі %6.3f cm' %resV)"
      ],
      "execution_count": 1,
      "outputs": [
        {
          "output_type": "stream",
          "name": "stdout",
          "text": [
            "Введіть радіус: 2\n",
            "Площа сфери 50.265 cm\n",
            "Обєм кулі 33.510 cm\n"
          ]
        }
      ]
    },
    {
      "cell_type": "markdown",
      "metadata": {
        "id": "Ki46Slel5ASd"
      },
      "source": [
        "3. А ще давайте переведемо температуру за Фаренгейтом у градуси Цельсія і навпаки. Формули тут надзвичайно прості:\n",
        "$$\n",
        "  C=(F-32)*0.5556\n",
        "$$\n",
        "$$\n",
        "  F=C*1.8+32\n",
        "$$\n",
        "Спробуйте в наступній комірці! Пам'ятайте про \"красиве\" введення і виведення даних."
      ]
    },
    {
      "cell_type": "code",
      "metadata": {
        "id": "8yhfAwYm5E_z",
        "colab": {
          "base_uri": "https://localhost:8080/"
        },
        "outputId": "9cf6c75d-54a6-4c2b-8738-5fce3fef24dc"
      },
      "source": [
        "C = float(input('Температура у градусах Цельсія: '))\n",
        "F = float(input('Температура у градусах Фаренгейта: '))\n",
        "resC = (F-32)*0.5556\n",
        "resF = C*1.8+32\n",
        "print ('%6.3f град Цельсія буде ' %C, '%6.3f град Фаренгейта' %resF)\n",
        "print ('%6.3f град Фаренгейта буде ' %F, '%6.3f град Цельсія' %resC)"
      ],
      "execution_count": 6,
      "outputs": [
        {
          "output_type": "stream",
          "name": "stdout",
          "text": [
            "Температура у градусах Цельсія: 23\n",
            "Температура у градусах Фаренгейта: 141\n",
            "23.000 град Цельсія буде  73.400 град Фаренгейта\n",
            "141.000 град Фаренгейта буде  60.560 град Цельсія\n"
          ]
        }
      ]
    },
    {
      "cell_type": "markdown",
      "metadata": {
        "id": "rnapogmC6dta"
      },
      "source": [
        "Ще більше простих вправ з Python - [тут](https://www.w3resource.com/python-exercises/python-basic-exercises.php)"
      ]
    }
  ]
}